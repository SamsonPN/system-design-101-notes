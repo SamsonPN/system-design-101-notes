{
 "cells": [
  {
   "cell_type": "markdown",
   "id": "2cbaf716",
   "metadata": {},
   "source": [
    "* IP: Internet Protocol\n",
    "    - defines a set of rules in how data is to be formatted and sent via the internet or local network\n",
    "* IP address: your device's or local network's address that allows for information to be sent from/to\n",
    "    - without them, the internet cannot differentiate between devices, websites, networks, etc\n",
    "    "
   ]
  },
  {
   "cell_type": "markdown",
   "id": "b2a110b5",
   "metadata": {},
   "source": [
    "## Versions\n",
    "\n",
    "### IPv4\n",
    "* original Internet Protocol using 32-bit numeric dot-decimal notation\n",
    "    - allows for 2$^{32}$ (4 billion) IP addresses only which is definitely not enough\n",
    "    - e.g. 102.22.192.181\n",
    "\n",
    "### IPv6\n",
    "* new version that uses 128-bit alphanumeric hexadecimal notation\n",
    "    - allows for 2$^{128}$ IP addresses which is a huge amount\n",
    "        * around ~340 x e$^{36}$ IP addresses\n",
    "    - e.g. 2011:0d8:85a3:0000:0000:8a2e:0370:7334"
   ]
  },
  {
   "cell_type": "markdown",
   "id": "fef2b0f4",
   "metadata": {},
   "source": [
    "## Types\n",
    "\n",
    "### Public\n",
    "* the primary IP address that is associated with a whole network\n",
    "* e.g. IP address provided to your router by the ISP\n",
    "\n",
    "### Private\n",
    "* unique address given to each device connected to your internet network\n",
    "* other networks cannot see this address\n",
    "* e.g. your home router generates private IP addresses to your devices\n",
    "\n",
    "### Static\n",
    "* they don't change and are manually created, not assigned\n",
    "* more expensive but more reliable\n",
    "* e.g. used for things like reliable geo-location services, remote access, server hosting\n",
    "\n",
    "### Dynamic\n",
    "* assigned by a Dynamic Host Configuration Protocol (DHCP) server\n",
    "* this type of IP address can change from time to time\n",
    "* they're the most common and so are used by your ISP\n",
    "    - they're cheap and can be reused"
   ]
  }
 ],
 "metadata": {
  "kernelspec": {
   "display_name": "Python 3 (ipykernel)",
   "language": "python",
   "name": "python3"
  },
  "language_info": {
   "codemirror_mode": {
    "name": "ipython",
    "version": 3
   },
   "file_extension": ".py",
   "mimetype": "text/x-python",
   "name": "python",
   "nbconvert_exporter": "python",
   "pygments_lexer": "ipython3",
   "version": "3.9.7"
  }
 },
 "nbformat": 4,
 "nbformat_minor": 5
}
