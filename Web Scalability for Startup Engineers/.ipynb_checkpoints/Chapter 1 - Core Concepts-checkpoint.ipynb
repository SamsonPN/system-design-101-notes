{
 "cells": [
  {
   "cell_type": "markdown",
   "id": "711dfd20",
   "metadata": {},
   "source": [
    "## What is Scalability?"
   ]
  },
  {
   "cell_type": "markdown",
   "id": "6d3d856c",
   "metadata": {},
   "source": [
    "* __Scalability__: the ability to cost-efficiently adjust your system in response to any amount of demand without compromising user experience\n",
    "    - being able to handle more requests, transactions, users, etc\n",
    "    - being able to scale up as well as scale down\n",
    "* the ability to scale is measured by 3 requirements:\n",
    "    1. Handling more data\n",
    "        - common challenge\n",
    "        - the more data you have, the harder it becomes to sort through and search through it\n",
    "    2. Handling higher concurrency levels\n",
    "        - basically, how many users can use your application at the same time\n",
    "        - more users means more things needing to be handled at the same time and your system needs to be able to handle that\n",
    "    3. Handling higher interaction rates\n",
    "        - refers to the # of interactions between the user and your servers\n",
    "        - this is related to concurrency levels but is more so a requirement based on the type of application\n",
    "        - a typical web application would have very low interaction rates compared to a multiplayer online game\n",
    "            * an online game could have multiple interactions happening in less than a second\n",
    "        - the main challenge for this requirement is _latency_\n",
    "            * the higher the interaction rates, the higher the need to serve responses quicker\n",
    "* scalability is _related_ to performance but they are not the same thing\n",
    "    - performance refers to how efficiently you are able to server a user's request\n",
    "        * being able to load your website up in 3 seconds vs 500 ms\n",
    "    - scalability refers to how efficiently you are able to accommodate any number of users using your website\n",
    "        * being able to serve 1k users vs 100k users vs 1 million users and scaling up or down from there\n",
    "* scalability is also constrained by the number of engineers that work on the system, i.e. organizational scalability matters as well\n",
    "    - if the architecture and design of your system is very interconnected, it would be very difficult to scale your engineering teams\n",
    "    - you would have very large teams that work on the same codebase at once, making it very hard to communicate with each other"
   ]
  },
  {
   "cell_type": "markdown",
   "id": "15c48d2b",
   "metadata": {},
   "source": [
    "## Evolution from a Single Server to a Global Audience"
   ]
  },
  {
   "cell_type": "markdown",
   "id": "246daf86",
   "metadata": {},
   "source": [
    "* these stages of evolution can only work if they have been planned for from the beginning\n",
    "* typically, you plan for a type of architecture and you stay there\n",
    "    - you might have to scale up one or 2 stages but for the most part, you do not continually evolve your architecture unless you plan to redesign and rewrite your application"
   ]
  },
  {
   "cell_type": "markdown",
   "id": "c462cdc8",
   "metadata": {},
   "source": [
    "### Single-Server Configuration\n",
    "\n",
    "![Single-server configuration](./assets/Single-server%20configuration.png)\n",
    "\n",
    "* simplest configuration\n",
    "    - entire application runs on a single machine\n",
    "    - your single server has to have multiple responsibilities, e.g.:\n",
    "        * serving static content to render your web page\n",
    "        * also runs a database management system\n",
    "* in this scenario:\n",
    "    - users connect to the Domain Name System (DNS) server to resolve to grab the Internet Protocol (IP) address associated with your domain\n",
    "        * normally, the DNS is provided by the hosting company and not run on your own servers\n",
    "    - using this IP address, HTTP requests are sent to the web server\n",
    "    - your web server would then send any information that the user requires like HTML/CSS/JavaScript to render your webpage and any images/videos/files\n",
    "        * so that single machine handles the processing and traffic\n",
    "* this type of set up is great for simple company websites\n",
    "    - they might not even need a dedicated server (physical machine) and can just host on a virtual private server (VPS) or on shared hosting\n",
    "    - Virtual Private Server (VPS)\n",
    "        * a virtual machine for rent\n",
    "        * a VPS instance is hosted together with other VPS instances on one shared machine but they have their own dedicated resources that don't impact the performance of each other\n",
    "        * you are able to add more power to this machine pretty quickly and cheaply\n",
    "    - Shared Hosting:\n",
    "        * multiple websites or applications share the same server\n",
    "        * it is pretty cheap but they share the same resources and the performance of one website can impact the performance of another\n",
    "        * they are not isolated\n",
    "* __when is this configuration good?__\n",
    "    - when you have a simple website that has pretty low traffic\n",
    "* __this configuration won't take you far in scalability for a couple of reasons:__\n",
    "    - as your user base grows, you have to accommodate for more traffic to your servers\n",
    "    - your database will have to grow to accommodate the amount of data it's adding\n",
    "        * requires more resources to query your database\n",
    "    - new functionality added to your system would also take up more resources"
   ]
  },
  {
   "cell_type": "markdown",
   "id": "f02c9b3b",
   "metadata": {},
   "source": [
    "### Making the Server Stronger: Scaling Vertically\n",
    "\n",
    "![Single server, but stronger](./assets/Single%20server%2C%20but%20stronger.png)\n",
    "\n",
    "* __Vertical Scalability__: upgrading the server's hardware to be able to handle more traffic or data processing\n",
    "    - very simple to do without requiring any changes to your architecture or application\n",
    "    - just add more RAM bro\n",
    "* ways to scale vertically:\n",
    "    - adding more hard drives for improve I/O capacity\n",
    "    - switching from hard disks to solid-state drives (SSDs)\n",
    "    - add more RAM to decrease need for I/O operations\n",
    "    - improve network throughput by upgrading network interfaces or adding new ones\n",
    "    - switching to a server with more processors or virtual cores\n",
    "* __when is this scaling good?__\n",
    "    - useful for small applications\n",
    "    - good if you can afford the hardware upgrades\n",
    "    - vertical scaling is pretty simple, you don't have to change anything about your application\n",
    "* __when is this not great?__\n",
    "    - it's cheaper in the beginning but becomes extremely expensive after a certain point\n",
    "        * e.g. getting 128 GB of RAM = ~\\\\$3k whereas doubling it to 256 GB of RAM = ~\\\\$18,000\n",
    "        * the pricing is NOT linear after a certain point\n",
    "    - there is a limit to how much you can actually upgrade the hardware\n",
    "        * you can't keep adding RAM forever bro\n",
    "    - the operating system design or your own application could hinder how much you can upgrade the hardware\n",
    "        * e.g. MySQL cannot be scaled infinitely with more CPU due to lock contention\n",
    "            * locks basically control access to a shared resource like memory or files or data structures between threads\n",
    "            * lock contention refers to a performance bottleneck where threads have to play a waiting game in order to acquire a lock to access a shared resource\n",
    "                - they basically have to wait for a thread to release possession of a lock to gain access to it\n",
    "        * so regardless of how much vertical scaling you do, if lock contention is not under control, then you can't even access those resources\n",
    "    - if your application was not designed with high concurrency in mind\n",
    "        * lock management is very complex"
   ]
  },
  {
   "cell_type": "markdown",
   "id": "5c3d3200",
   "metadata": {},
   "source": [
    "### Isolation of Services\n",
    "\n",
    "![Configuration with separate services residing on different servers](./assets/Separate%20Services.png)\n",
    "\n",
    "* can also scale your system by separating different services into their own servers (physical machines)\n",
    "    - so instead of 1 server for a web server and database engine, you now have 2\n",
    "    - this still looks pretty similar to a single-server setup though but the number of servers has increased to share the load\n",
    "    - these different servers are hosted in a 3rd party data center usually\n",
    "        * data centers are physical locations where these machines reside or they could be cloud data centers\n",
    "* __when is this scaling good?__\n",
    "    - pretty good for small websites or for web development agencies\n",
    "        * they host multiple websites on a single web server\n",
    "        * if one of those websites has a large amount of traffic, it can have its own web server\n",
    "    - you can also vertically scale each server as well\n",
    "* __when is it not good?__\n",
    "    - when you require even more scaling b/c each server for each service can only be scaled vertically which has its own limitations"
   ]
  },
  {
   "cell_type": "markdown",
   "id": "c21dbb99",
   "metadata": {},
   "source": [
    "#### Functional Partitioning\n",
    "\n",
    "![Configuration showing functional partitioning of the application](./assets/Functional%20Partitioning.png)\n",
    "\n",
    "* you can also divide your system based on functionality, i.e. __functional partitioning__\n",
    "    - i.e. you have separate servers for your admin portal and the rest of your application\n",
    "* each part of your application could use a different subdomain so that traffic could be directed to them based on the IP address of the web server\n",
    "    - each partition could have its own servers installed and have different vertical scaling needs"
   ]
  },
  {
   "cell_type": "markdown",
   "id": "91241816",
   "metadata": {},
   "source": [
    "### Content Delivery Network: Scalability for Static Content\n",
    "\n",
    "![Integration with a content delivery network provider](./assets/CDN.png)\n",
    "\n",
    "* could offload some traffic to a 3rd party content delivery network service\n",
    "    - hosted service that handles serving static content to your clients globally\n",
    "    - clients connect to one of the CDN servers to grab any static content they need\n",
    "        * if the CDN doesn't have it, it'll request it from your servers, cache it, then fulfill any subsequent requests for that content with the cached content\n",
    "* __what are the benefits of a CDN?__\n",
    "    - reduces the amount of bandwidth (maximum amount of data you can transfer per second over a network) your servers need\n",
    "    - requires less web servers to serve static content\n",
    "    - CDNs are global so your clients will be served content faster if they aren't close to your servers\n",
    "    - CDNs are a 3rd party service\n",
    "        * you just have to use the service, you don't really need to change your application that much\n",
    "        * it's cheaper to optimize serving content like this using a CDN which has a global network than you coming up with your own solution"
   ]
  },
  {
   "cell_type": "markdown",
   "id": "99a4dec4",
   "metadata": {},
   "source": [
    "### Distributing the Traffic: Horizontal Scalability\n",
    "\n",
    "![Multiple servers dedicated to each role](./assets/Horizontal%20Scalability.png)\n",
    "\n",
    "* __Horizontal Scalability__: scalability that increases your system's capacity by adding more servers\n",
    "    - harder to achieve and has to be considered before the application is built\n",
    "        * horizontal scalability can be added later on but requires a lot of effort\n",
    "    - there are multiple ways to achieve this scalability but the simplest one would be to run each component of your system on multiple servers and being able to add more servers when you need it\n",
    "        * each server does not need to be strong at all since you can just run more servers\n",
    "    - initially, horizontal scalability costs more to set up but as more capacity is needed, the costs are much more efficient than vertical scaling\n",
    "        * it costs more to set up b/c it's more complex to setup\n",
    "        * also requires experienced engineers to setup and maintain\n",
    "        * but as you need more and more capacity, it's pretty easy to estimate how much it would cost\n",
    "            - e.g. if you get 2x as much traffic, you'll be charged 2x as much if you're using a 3rd party service\n",
    "    - horizontal scaling does not have a ceiling like vertical scaling does\n",
    "        * there's a limit to how much more powerful your hardware can get but there isn't really a limit on how many servers you can add\n",
    "* __when is this scaling good to use?__\n",
    "    - when you know you're going to need it and can plan for it\n",
    "    - when you have experienced engineers that can set it up and maintain it\n",
    "    - when you have the option of using 3rd party providers that can add more servers (AWS, for example)\n",
    "* __what makes this scaling different from the previous ones?__\n",
    "    - each service can be scaled by adding more servers\n",
    "    - it's more expensive up front b/c of its complexity but becomes predictable at higher capacities\n",
    "    - allows for partial horizontal scaling in stages on things that are easier to scale first:\n",
    "        * i.e. scaling your web servers and caches first b/c they're easier to setup\n",
    "        * then focusing on scaling your databases and persistence stores later\n",
    "* horizontal scaling also makes use of a round-robin DNS service to distribute traffic between web servers\n",
    "* __Round-robin DNS__: allows you to map a domain name to multiple IP addresses\n",
    "    - each IP address points to a different machine\n",
    "    - when a client tries to resolve a domain name with an IP address, the DNS returns one of the IP addresses mapped to that domain\n",
    "    - when that client receives that IP address, it will only communicate with that server"
   ]
  },
  {
   "cell_type": "markdown",
   "id": "d82b24ef",
   "metadata": {},
   "source": [
    "### Scalability for a Global Audience\n",
    "\n",
    "![Customers from different locations are served via local edge caches](./assets/Global%20Scalability.png)\n",
    "\n",
    "* used by the largest websites (think Facebook or Twitter)\n",
    "    - you need more than one data center\n",
    "    - a data center can host many servers but its location hinders its usefulness\n",
    "        * if a user is far away from your data center, their experience is worse\n",
    "    - using multiple data centers also prepares you for outages from things like floods, storms, fires, etc\n",
    "    - scaling of this size requires the use of a GeoDNS\n",
    "* __GeoDNS__: a DNS service that resolves domain names to IP addresses based on the user's location\n",
    "    - you would have different IP addresses based on a geographic region\n",
    "    - if a user is a part of that region, they would be served from that IP address\n",
    "    - the goal of a GeoDNS is to serve an IP address of a data center closest to the client\n",
    "        * this reduces latency and provides a much better user experience\n",
    "* global scaling could also make use of edge-cache servers\n",
    "* __Edge cache__: it is an HTTP cache server\n",
    "    - it serves already generated web pages or part of one\n",
    "    - if it serves part of a web page, it will make requests in the background to your web servers for the rest of it\n",
    "    - if the edge cache cannot cache the web page, it will just delegate that function to your web servers entirely\n",
    "    - in essence, edge-cache servers can serve entire pages or cache fragments of HTTP responses\n",
    "* Edge cache vs CDN:\n",
    "    - edge cache is a server, CDN is an entire network\n",
    "    - edge cache serves cached static assets\n",
    "    - CDN also does that but it has more features like load balancing and DDoS protection"
   ]
  },
  {
   "cell_type": "markdown",
   "id": "9d1ab56d",
   "metadata": {},
   "source": [
    "## Overview of a Data Center Infrastructure"
   ]
  },
  {
   "cell_type": "code",
   "execution_count": null,
   "id": "84e1ca16",
   "metadata": {},
   "outputs": [],
   "source": []
  }
 ],
 "metadata": {
  "kernelspec": {
   "display_name": "Python 3 (ipykernel)",
   "language": "python",
   "name": "python3"
  },
  "language_info": {
   "codemirror_mode": {
    "name": "ipython",
    "version": 3
   },
   "file_extension": ".py",
   "mimetype": "text/x-python",
   "name": "python",
   "nbconvert_exporter": "python",
   "pygments_lexer": "ipython3",
   "version": "3.9.7"
  }
 },
 "nbformat": 4,
 "nbformat_minor": 5
}
