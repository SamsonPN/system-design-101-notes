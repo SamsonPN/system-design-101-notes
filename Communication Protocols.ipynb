{
 "cells": [
  {
   "cell_type": "markdown",
   "id": "0cdd7e5f",
   "metadata": {},
   "source": [
    "# Communication Protocols"
   ]
  },
  {
   "cell_type": "markdown",
   "id": "a22c3b90",
   "metadata": {},
   "source": [
    "![API Architecture Styles](https://github.com/ByteByteGoHq/system-design-101/raw/main/images/api-architecture-styles.png)"
   ]
  },
  {
   "cell_type": "markdown",
   "id": "30dc2b60",
   "metadata": {},
   "source": [
    "## References: \n",
    "* https://blog.postman.com/\n",
    "* https://blog.postman.com/different-types-of-apis/"
   ]
  },
  {
   "cell_type": "markdown",
   "id": "960a0fe3",
   "metadata": {},
   "source": [
    "## SOAP\n",
    "\n",
    "* https://blog.postman.com/soap-api-definition/\n",
    "***\n",
    "* "
   ]
  },
  {
   "cell_type": "code",
   "execution_count": null,
   "id": "47b0c7ce",
   "metadata": {},
   "outputs": [],
   "source": []
  },
  {
   "cell_type": "code",
   "execution_count": null,
   "id": "e79e3b1f",
   "metadata": {},
   "outputs": [],
   "source": []
  },
  {
   "cell_type": "code",
   "execution_count": null,
   "id": "c1ec49bd",
   "metadata": {},
   "outputs": [],
   "source": []
  },
  {
   "cell_type": "code",
   "execution_count": null,
   "id": "d2f0f88b",
   "metadata": {},
   "outputs": [],
   "source": []
  },
  {
   "cell_type": "code",
   "execution_count": null,
   "id": "bfe0e11b",
   "metadata": {},
   "outputs": [],
   "source": []
  }
 ],
 "metadata": {
  "kernelspec": {
   "display_name": "JavaScript (Node.js)",
   "language": "javascript",
   "name": "javascript"
  },
  "language_info": {
   "file_extension": ".js",
   "mimetype": "application/javascript",
   "name": "javascript",
   "version": "16.14.2"
  }
 },
 "nbformat": 4,
 "nbformat_minor": 5
}
