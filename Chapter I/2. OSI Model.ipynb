{
 "cells": [
  {
   "cell_type": "markdown",
   "id": "5d889256",
   "metadata": {},
   "source": [
    "* OSI Model: Open Source Interconnection Model\n",
    "    - the OSI Model defines how networks communicate with each other and is represented by 7 different layers"
   ]
  },
  {
   "cell_type": "markdown",
   "id": "6f72972e",
   "metadata": {},
   "source": [
    "## Why does the OSI Model Matter?\n",
    "\n",
    "* the model helps to break down the complexity of network communication into various parts that can be observed separately\n",
    "* TCP/IP networks don't directly implement the OSI model but it's still a good framework to help with other things:\n",
    "    - makes troubleshooting easier\n",
    "    - helpful for a security-first mindset\n",
    "    - separates complex functions into simpler components"
   ]
  },
  {
   "cell_type": "markdown",
   "id": "f84ca492",
   "metadata": {},
   "source": [
    "## Layers\n",
    "\n",
    "![OSI Model Layers](https://www.karanpratapsingh.com/_next/image?url=%2Fstatic%2Fcourses%2Fsystem-design%2Fchapter-I%2Fosi-model%2Fosi-model.png&w=1920&q=75)"
   ]
  },
  {
   "cell_type": "markdown",
   "id": "230e1f37",
   "metadata": {},
   "source": [
    "### Application\n",
    "\n",
    "* the only layer that actually interacts with user data\n",
    "* this layer does not actually represent the software application itself but rather represents the set of protocols that determine how network communication is to take place\n",
    "    - for example, if you try to go to a website via your web browser, the application layer will use HTTP to initiate an HTTP request to get that website's resources like HTML/CSS/JavaScript to render that webpage in your browser\n",
    "    - or if you're using an email server, you would use the SMTP protocol (Simple Mail Transfer Protocol) for sending/receiving/relaying email\n",
    "\n",
    "### Presentation\n",
    "\n",
    "* this layer modifies the data received from the Application layer into the required format needed for network communication\n",
    "* so it's responsible for translation, encryption/decryption, and compression\n",
    "\n",
    "### Session\n",
    "\n",
    "* this layer is responsible for opening and closing communication between networks\n",
    "    - opening the communication allows for data transfer to happen\n",
    "    - closing communication ensures no resources are wasted\n",
    "* session: the time between when a communication is opened and closed\n",
    "\n",
    "### Transport\n",
    "\n",
    "* responsible for the end-to-end communication between devices\n",
    "    - when sending data, it breaks that data into chunks for the Network layer\n",
    "    - when receiving data, it reassembles those chunks into data that the Session layer can use\n",
    "\n",
    "### Network\n",
    "\n",
    "* actually responsible for data transfer between networks\n",
    "    - if communication is between devices in the same network, then this layer is not necessary\n",
    "* it breaks up segments from the Transport layer into packets \n",
    "    - these packets are then reassembled on the receiving device for the Transport layer\n",
    "* also calculates the optimal path to transfer data to the receiving network\n",
    "    - this is known as routing\n",
    "\n",
    "### Data Link\n",
    "* similar to the Network layer but works in transporting data between devices ON THE SAME NETWORK\n",
    "    - Network layer does work between networks\n",
    "* this layer takes the packets from the Network layer and breaks them down further into frames\n",
    "\n",
    "### Physical\n",
    "\n",
    "* this layer represents the physical mediums by which data transfer takes place\n",
    "    - things like cables, switches, etc\n",
    "* the data is converted into a bit stream (1s and 0s)\n",
    "    - the physical layer of both devices must also agree on a signal convention so that the 1s can be distinguished from the 0s on both devices"
   ]
  }
 ],
 "metadata": {
  "kernelspec": {
   "display_name": "Python 3 (ipykernel)",
   "language": "python",
   "name": "python3"
  },
  "language_info": {
   "codemirror_mode": {
    "name": "ipython",
    "version": 3
   },
   "file_extension": ".py",
   "mimetype": "text/x-python",
   "name": "python",
   "nbconvert_exporter": "python",
   "pygments_lexer": "ipython3",
   "version": "3.9.7"
  }
 },
 "nbformat": 4,
 "nbformat_minor": 5
}
